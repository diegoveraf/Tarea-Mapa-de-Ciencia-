{
 "cells": [
  {
   "cell_type": "code",
   "execution_count": null,
   "id": "2d95752d",
   "metadata": {},
   "outputs": [],
   "source": [
    "<img src=\"https://www.ikiam.edu.ec/img/logo-ikiam-grey.png\" width=300 height=240 />\n",
    "\n",
    "# Deber 2\n",
    "\n",
    "## GBI6-2021II: BIOINFORMÁTICA\n",
    "\n",
    "**Diego Vera F** \n",
    "\n",
    "**17/02/2022**"
   ]
  },
  {
   "cell_type": "code",
   "execution_count": null,
   "id": "f39e518d",
   "metadata": {},
   "outputs": [],
   "source": [
    "T5_Mapa de Ciencia\n",
    "Basado en las sesiones de Visualización de datos y Expresiones resulares. Realice una adaptación de la solución del MAP OF SCIENCE. Se requiere dos adaptaciones para resolver esta actividad:\n",
    "Buscar bibliografía de un tema de interés propio en la Página Web de PubMed\n",
    "Realizar el minado de autores por país (en el ejemplo se encuentra realziado por las ciudades de USA). Para asignar las ubicación geográfica de los centroides de cada país (latitud y longitud), utilice la tabla Ubicación Geográfica de Países - Google Developer. Así como en la solución de referencia se señalan varias ciudades seleccionadas de USA, en su resolución señale/resalte a los siguientes países: USA, UK, Brazil, China, Australia, Norway.\n",
    "Cargue su cuaderno de Jupyter en GitHub, asegurandose de lo siguiente:\n",
    "en el documento se puede ver con claridad el Mapa de Ciencia de su tema de interés.\n",
    "la figura tiene etiquetas adecuadas en los ejes de la visualización.\n",
    "se tiene al menos tres controles de la versión (3 commit con mensajes adecuados sobre la versión)"
   ]
  },
  {
   "cell_type": "code",
   "execution_count": null,
   "id": "40eae328",
   "metadata": {},
   "outputs": [],
   "source": [
    "#Se declaran las importaciones de los modulos de la clase re oara cambiar los espacios entre lineas\n",
    "#y buscar el patron de interes\n",
    "import re\n",
    "#Se abre el documento previamente descargado de PubMed donde se realiza el mapeo de autores\n",
    "#Se usa encoding=\"utf8\" para abrir el archivo \".txt\", ya que esta guardado en ese tipo de codificacion\n",
    "with open(\"pubmed-Secondarym-set.txt\", encoding=\"utf8\") as f:\n",
    "    pubmedSecondarymset1 = f.read()\n",
    "#Se mide el archivo para saber cual es el tamaño antes de cambiar los saltos de linea por espacios con ayuda de re.sub\n",
    "len(pubmedSecondarymset1) \n",
    "#Se cambian los saltos de lienas por un espacio\n",
    "pubmedSecondarymset2 = re.sub(r'\\n\\s{6}', ' ', pubmedSecondarymset1)"
   ]
  },
  {
   "cell_type": "code",
   "execution_count": null,
   "id": "179036c2",
   "metadata": {},
   "outputs": [],
   "source": [
    "#Patrones mas repetidos para paises de la busqueda\n",
    "#Se buscaron paises que tiene antews numeros y letras o que finalizan en correos\n",
    "pubmedSecondarymsetPaises1 = re.findall(r'\\,\\s(\\w+)\\.\\n', pubmedSecondarymset2)\n",
    "pubmedSecondarymsetPaises2 = re.findall(r'\\,\\s(\\w+[^0-9\\,]\\s\\w+[^0-9])\\.\\n', pubmedSecondarymset2)\n",
    "pubmedSecondarymsetPaises3 = re.findall(r'\\,\\s(\\w+)\\.\\s[a-z0-9_\\.-]+@[\\da-z\\.-]+\\.[a-z\\.]{2,6}\\.\\n', pubmedSecondarymset2)\n",
    "pubmedSecondarymsetPaises4 = re.findall(r'\\,\\s(\\w+[^0-9\\,]\\s\\w+[^0-9])\\.\\s[a-z0-9_\\.-]+@[\\da-z\\.-]+\\.[a-z\\.]{2,6}\\.\\n', pubmedSecondarymset2)\n",
    "pubmedSecondarymsetPaises5 = re.findall(r'\\,\\s(\\w+)\\. Electronic address:\\s[a-z0-9_\\.-]+@[\\da-z\\.-]+\\.[a-z\\.]{2,6}\\.\\n', pubmedSecondarymset2)\n",
    "pubmedSecondarymsetPaises6 = re.findall(r'\\,\\s(\\w+[^0-9\\,]\\s\\w+[^0-9])\\. Electronic address:\\s[a-z0-9_\\.-]+@[\\da-z\\.-]+\\.[a-z\\.]{2,6}\\.\\n', pubmedSecondarymset2)\n",
    "pubmedSecondarymsetPaises7 = re.findall(r'\\,\\s\\w+[0-9\\-]\\,\\s(\\w+)\\.\\n', pubmedSecondarymset2)\n",
    "#Se unene las listas de los patrones\n",
    "pubmedSecondarymsetPaisesTotal = pubmedSecondarymsetPaises1 + pubmedSecondarymsetPaises2 + pubmedSecondarymsetPaises3 + pubmedSecondarymsetPaises4 + pubmedSecondarymsetPaises5 + pubmedSecondarymsetPaises6 + pubmedSecondarymsetPaises7\n",
    "#print(pubmedSecondarymsetPaisesTotal)\n",
    "#Se ordenada los paises, de forma alfabetica y sin repetirlos\n",
    "#10 primeros paises\n",
    "len(pubmedSecondarymsetPaisesTotal)\n",
    "print(pubmedSecondarymsetPaisesTotal[:10])\n",
    "unicopubmedSecondarymsetPaisesTotal = list(set(pubmedSecondarymsetPaisesTotal))\n",
    "unicopubmedSecondarymsetPaisesTotal.sort()\n",
    "len(unicopubmedSecondarymsetPaisesTotal)"
   ]
  },
  {
   "cell_type": "code",
   "execution_count": null,
   "id": "1add6172",
   "metadata": {},
   "outputs": [],
   "source": [
    "#Se asigana los datos al diccionario provenientes de las coordendas del mundo\n",
    "import csv\n",
    "#Declarar diccionario vacio y abre el archivo de coordenadas\n",
    "coordenadasDelMundo = {}\n",
    "with open('coordenadas-del-mundo.txt') as f:\n",
    "    csvr = csv.DictReader(f)\n",
    "    for row in csvr:\n",
    "        coordenadasDelMundo[row['Name']] = [row['Latitude'], row['Longitude']]\n",
    "#Se crea una lista por cada elemento de unico y se compara con el documento de coordenadas para asi graficarlo y contarlo\n",
    "paisesTotalEnOrden = []\n",
    "longitudDePaisesDelMundo = []\n",
    "latitudDePaisesDelMundo = []\n",
    "contDePaisesDelMundo = []\n",
    "for i in unicopubmedSecondarymsetPaisesTotal:\n",
    "    if i in coordenadasDelMundo.keys():\n",
    "        paisesTotalEnOrden.append(i)\n",
    "        latitudDePaisesDelMundo.append(float(coordenadasDelMundo[i][0]))\n",
    "        longitudDePaisesDelMundo.append(float(coordenadasDelMundo[i][1]))\n",
    "        contDePaisesDelMundo.append(pubmedSecondarymsetPaisesTotal.count(i))"
   ]
  }
 ],
 "metadata": {
  "kernelspec": {
   "display_name": "Python 3",
   "language": "python",
   "name": "python3"
  },
  "language_info": {
   "codemirror_mode": {
    "name": "ipython",
    "version": 3
   },
   "file_extension": ".py",
   "mimetype": "text/x-python",
   "name": "python",
   "nbconvert_exporter": "python",
   "pygments_lexer": "ipython3",
   "version": "3.8.8"
  }
 },
 "nbformat": 4,
 "nbformat_minor": 5
}
